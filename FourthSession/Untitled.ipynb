{
 "cells": [
  {
   "cell_type": "code",
   "execution_count": 18,
   "metadata": {},
   "outputs": [],
   "source": [
    "class D:\n",
    "    def inst_method(self, x, y):\n",
    "        # pertenece a la instancia del objeto\n",
    "        pass\n",
    "    \n",
    "    @staticmethod\n",
    "    def static_method(x, y):\n",
    "        pass\n",
    "    \n",
    "    @classmethod\n",
    "    def cls_method(cls, x, y):\n",
    "        pass\n",
    "\n",
    "d = D()  # instanciar el objeto == crear \n",
    "d.inst_method(1, 2)  # normal\n",
    "# inst_method(obj, 1, 2)  # como python lo entiende\n",
    "\n",
    "# llamando desde el objeto\n",
    "d.static_method(1, 2)\n",
    "# static_method(1, 2)\n",
    "\n",
    "# llamando desde la clase\n",
    "D.static_method(1, 2)\n",
    "# static_method(1, 2)\n",
    "\n",
    "\"\"\"parecidos a los static\"\"\"\n",
    "d.cls_method(1, 2)\n",
    "# cls_method(type(D), 1, 2)\n",
    "\n",
    "D.cls_method(1, 2)\n",
    "# cls_method(D, 1, 2)\n",
    "    "
   ]
  },
  {
   "cell_type": "code",
   "execution_count": 5,
   "metadata": {},
   "outputs": [],
   "source": []
  },
  {
   "cell_type": "code",
   "execution_count": 27,
   "metadata": {},
   "outputs": [],
   "source": [
    "class ConejoPadre():\n",
    "    \n",
    "    def __init__(self, edad, color, tipo, nombre, apellido, genero):\n",
    "        self.edad = edad\n",
    "        self.color = color\n",
    "        self.tipo = tipo\n",
    "        self.nombre = nombre\n",
    "        self.apellido = apellido\n",
    "        self.genero = genero\n",
    "        \n",
    "    def saltar(self):\n",
    "        print(\"santando\")\n",
    "    \n",
    "    def correr(self):\n",
    "        pass\n",
    "    \n",
    "    def dormir(self):\n",
    "        pass\n",
    "    \n",
    "    def __str__(self):\n",
    "        return \"edad: {}, color: {}, nombre: {}, apellido: {},tipo{},genero{}\".format(self.edad, self.color, self.nombre, self.apellido,self.tipo,self.genero)\n",
    "        "
   ]
  },
  {
   "cell_type": "code",
   "execution_count": 28,
   "metadata": {},
   "outputs": [],
   "source": [
    "papa_conejo = ConejoPadre(2, \"Cafe\", \"castilla\", \"reddy\", \"tintaya\",  \"Macho\")\n",
    "papa_conejo.saltar()"
   ]
  },
  {
   "cell_type": "code",
   "execution_count": 32,
   "metadata": {},
   "outputs": [],
   "source": [
    "class ConejoHijo(ConejoPadre):\n",
    "    # ini no tiene nigun argumento\n",
    "    def __init__(self):\n",
    "        pass\n",
    "    "
   ]
  },
  {
   "cell_type": "code",
   "execution_count": 34,
   "metadata": {},
   "outputs": [],
   "source": [
    "hijo = ConejoHijo()"
   ]
  },
  {
   "cell_type": "code",
   "execution_count": 52,
   "metadata": {},
   "outputs": [
    {
     "data": {
      "text/plain": [
       "['__class__',\n",
       " '__delattr__',\n",
       " '__dict__',\n",
       " '__dir__',\n",
       " '__doc__',\n",
       " '__eq__',\n",
       " '__format__',\n",
       " '__ge__',\n",
       " '__getattribute__',\n",
       " '__gt__',\n",
       " '__hash__',\n",
       " '__init__',\n",
       " '__init_subclass__',\n",
       " '__le__',\n",
       " '__lt__',\n",
       " '__module__',\n",
       " '__ne__',\n",
       " '__new__',\n",
       " '__reduce__',\n",
       " '__reduce_ex__',\n",
       " '__repr__',\n",
       " '__setattr__',\n",
       " '__sizeof__',\n",
       " '__str__',\n",
       " '__subclasshook__',\n",
       " '__weakref__',\n",
       " 'correr',\n",
       " 'dormir',\n",
       " 'saltar']"
      ]
     },
     "execution_count": 52,
     "metadata": {},
     "output_type": "execute_result"
    }
   ],
   "source": [
    " dir(hijo)"
   ]
  },
  {
   "cell_type": "code",
   "execution_count": 46,
   "metadata": {},
   "outputs": [
    {
     "data": {
      "text/plain": [
       "list"
      ]
     },
     "execution_count": 46,
     "metadata": {},
     "output_type": "execute_result"
    }
   ],
   "source": []
  },
  {
   "cell_type": "code",
   "execution_count": null,
   "metadata": {},
   "outputs": [],
   "source": []
  },
  {
   "cell_type": "code",
   "execution_count": null,
   "metadata": {},
   "outputs": [],
   "source": []
  },
  {
   "cell_type": "code",
   "execution_count": null,
   "metadata": {},
   "outputs": [],
   "source": []
  }
 ],
 "metadata": {
  "kernelspec": {
   "display_name": "Python 3",
   "language": "python",
   "name": "python3"
  },
  "language_info": {
   "codemirror_mode": {
    "name": "ipython",
    "version": 3
   },
   "file_extension": ".py",
   "mimetype": "text/x-python",
   "name": "python",
   "nbconvert_exporter": "python",
   "pygments_lexer": "ipython3",
   "version": "3.7.4"
  }
 },
 "nbformat": 4,
 "nbformat_minor": 2
}
