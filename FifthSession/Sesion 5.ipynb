{
 "cells": [
  {
   "cell_type": "markdown",
   "metadata": {},
   "source": [
    "# Esqueleto de una clase\n",
    "```class SubClassName(BaseClassName):\n",
    "        class-body```"
   ]
  },
  {
   "cell_type": "markdown",
   "metadata": {},
   "source": [
    "## Clase Persona"
   ]
  },
  {
   "cell_type": "code",
   "execution_count": null,
   "metadata": {},
   "outputs": [],
   "source": []
  },
  {
   "cell_type": "code",
   "execution_count": 15,
   "metadata": {},
   "outputs": [],
   "source": [
    "class Person:\n",
    "    def __init__(self, name, age):\n",
    "        self.name= name\n",
    "        self.age = age\n",
    "    def birthday(self):\n",
    "        print(\"Happy birthday!, you were\", self.age)\n",
    "        self.age += 1\n",
    "        print(\"You are now\", self.age)\n",
    "    \n",
    "    def __str__(self):\n",
    "        return \"Person: {} is {}\".format(self.name, self.age)"
   ]
  },
  {
   "cell_type": "code",
   "execution_count": 16,
   "metadata": {},
   "outputs": [],
   "source": [
    "class Employee(Person):\n",
    "    def __init__(self, name, age, id):\n",
    "        super().__init__(name, age)\n",
    "        self.id = id\n",
    "    def calculate_pay(self, hours_worked):\n",
    "        rate_of_pay = 7.50\n",
    "        if self.age >= 18:\n",
    "            rate_of_pay += 2.50\n",
    "        return hours_worked * rate_of_pay\n",
    "    "
   ]
  },
  {
   "cell_type": "code",
   "execution_count": 17,
   "metadata": {},
   "outputs": [],
   "source": [
    "class SalesPerson(Employee):\n",
    "    def __init__(self, name, age, id, region, sales):\n",
    "        super().__init__(name, age, id)\n",
    "        self.region = region\n",
    "        self.sales = sales\n",
    "    def bonus(self):\n",
    "        return self.sales * 0.5"
   ]
  },
  {
   "cell_type": "code",
   "execution_count": 18,
   "metadata": {},
   "outputs": [
    {
     "name": "stdout",
     "output_type": "stream",
     "text": [
      "Person\n",
      "Person: Jhon is 54\n",
      "-------------------------\n"
     ]
    }
   ],
   "source": [
    "print(\"Person\")\n",
    "p = Person(\"Jhon\", 54)\n",
    "print(p)\n",
    "print('-'*25)\n",
    "\n"
   ]
  },
  {
   "cell_type": "code",
   "execution_count": 19,
   "metadata": {},
   "outputs": [
    {
     "name": "stdout",
     "output_type": "stream",
     "text": [
      "Employee\n",
      "Happy birthday!, you were 51\n",
      "You are now 52\n",
      "e.calculated_pay(40): 400.0\n",
      "-------------------------\n"
     ]
    }
   ],
   "source": [
    "print(\"Employee\")\n",
    "e = Employee(\"Denise\", 51, 7468)\n",
    "e.birthday()\n",
    "\n",
    "print('e.calculated_pay(40):', e.calculate_pay(40))\n",
    "print('-'*25)\n",
    "\n",
    "\n"
   ]
  },
  {
   "cell_type": "code",
   "execution_count": 20,
   "metadata": {},
   "outputs": [
    {
     "name": "stdout",
     "output_type": "stream",
     "text": [
      "SalesPerson\n",
      "Person: Phoebe is 21\n",
      "Happy birthday!, you were 21\n",
      "You are now 22\n",
      "s.calculate_pay(40): 400.0\n",
      "s.bonus(): 15000.0\n"
     ]
    }
   ],
   "source": [
    "print('SalesPerson')\n",
    "s = SalesPerson('Phoebe', 21, 4712, 'UK', 30000.0) \n",
    "print(s)\n",
    "s.birthday()\n",
    "print('s.calculate_pay(40):', s.calculate_pay(40)) \n",
    "print('s.bonus():', s.bonus())"
   ]
  },
  {
   "cell_type": "markdown",
   "metadata": {},
   "source": [
    "## Terminologia"
   ]
  },
  {
   "cell_type": "markdown",
   "metadata": {},
   "source": [
    "<img src=\"terminologia.png\">"
   ]
  },
  {
   "cell_type": "markdown",
   "metadata": {},
   "source": [
    "- **Class**: Una clase define la combinacion de datos y procedimientos que operan sobre esos datos\n",
    "- **Subclase**: Una Subclase es una **Clase** que hereda de otra clase\n",
    "- **Superclass**: es la clase padre de una clase, es la clase de la que la actual clase hereda \n",
    "\n",
    "En python no hay limite de cuantas superclases puede una clase tener, y tampoco cuantas subclases una clase puede tener."
   ]
  },
  {
   "cell_type": "code",
   "execution_count": null,
   "metadata": {},
   "outputs": [],
   "source": []
  },
  {
   "cell_type": "code",
   "execution_count": null,
   "metadata": {},
   "outputs": [],
   "source": []
  }
 ],
 "metadata": {
  "kernelspec": {
   "display_name": "Python 3",
   "language": "python",
   "name": "python3"
  },
  "language_info": {
   "codemirror_mode": {
    "name": "ipython",
    "version": 3
   },
   "file_extension": ".py",
   "mimetype": "text/x-python",
   "name": "python",
   "nbconvert_exporter": "python",
   "pygments_lexer": "ipython3",
   "version": "3.7.4"
  }
 },
 "nbformat": 4,
 "nbformat_minor": 2
}
