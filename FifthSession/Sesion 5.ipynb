{
 "cells": [
  {
   "cell_type": "markdown",
   "metadata": {},
   "source": [
    "# Esqueleto de una clase\n",
    "```class SubClassName(BaseClassName):\n",
    "        class-body```"
   ]
  },
  {
   "cell_type": "markdown",
   "metadata": {},
   "source": [
    "## Clase Persona"
   ]
  },
  {
   "cell_type": "code",
   "execution_count": 18,
   "metadata": {},
   "outputs": [],
   "source": [
    "class Person:\n",
    "    \n",
    "    def __init__(self, name, age):\n",
    "        self._name= name\n",
    "        self._age = age\n",
    "        \n",
    "    # que hace, que tipo de metodo es?\n",
    "    def _birthday(self):\n",
    "        print(\"Happy birthday!, you were\", self.age)\n",
    "        self.age += 1\n",
    "        print(\"You are now\", self.age)\n",
    "\n",
    "    # sobrecarga de operadores\n",
    "    def __str__(self):  # string\n",
    "        return \"Person: {} is {}\".format(self.name, self.age)\n",
    "    \n",
    "\n"
   ]
  },
  {
   "cell_type": "code",
   "execution_count": 19,
   "metadata": {},
   "outputs": [],
   "source": [
    "class Employee(Person):\n",
    "    \n",
    "    def __init__(self, name, age, id):\n",
    "        #instanciando de Persona\n",
    "        super().__init__(name, age)\n",
    "        self.id = id\n",
    "        \n",
    "    def calculate_pay(self, hours_worked):\n",
    "        rate_of_pay = 7.50\n",
    "        if self.age >= 18:\n",
    "            rate_of_pay += 2.50\n",
    "        return hours_worked * rate_of_pay\n",
    "    "
   ]
  },
  {
   "cell_type": "code",
   "execution_count": 33,
   "metadata": {},
   "outputs": [],
   "source": [
    "class SalesPerson(Employee):\n",
    "    \n",
    "    def __init__(self, name, age, id, region, sales):\n",
    "        super().__init__(name, age, id)\n",
    "        self.region = region\n",
    "        self.sales = sales\n",
    "        \n",
    "    def bonus(self):\n",
    "        return self.sales * 0.5\n",
    "    \n",
    "    def __str__(self):\n",
    "        return \"padre:{}, name:{}, region:{}\".format(super().__str__(), self.name, self.region)"
   ]
  },
  {
   "cell_type": "code",
   "execution_count": 34,
   "metadata": {},
   "outputs": [
    {
     "name": "stdout",
     "output_type": "stream",
     "text": [
      "empleado\n",
      "Happy birthday!, you were 56\n",
      "You are now 57\n",
      "e.calculated_pay(40): 400.0\n",
      "-------------------------\n"
     ]
    }
   ],
   "source": [
    "# empleado\n",
    "print(\"empleado\")\n",
    "e = Employee(name=\"Denise\", age=56, id=7468)\n",
    "e.birthday()\n",
    "\n",
    "print('e.calculated_pay(40):', e.calculate_pay(40))\n",
    "print('-'*25)"
   ]
  },
  {
   "cell_type": "code",
   "execution_count": 35,
   "metadata": {},
   "outputs": [
    {
     "name": "stdout",
     "output_type": "stream",
     "text": [
      "SalesPerson\n",
      "padre:Person: Phoebe is 21, name:Phoebe, region:UK\n",
      "Happy birthday!, you were 21\n",
      "You are now 22\n",
      "s.calculate_pay(40): 400.0\n",
      "s.bonus(): 15000.0\n"
     ]
    }
   ],
   "source": [
    "print('SalesPerson')\n",
    "s = SalesPerson('Phoebe', 21, 4712, 'UK', 30000.0) \n",
    "print(s)\n",
    "s.birthday()\n",
    "print('s.calculate_pay(40):', s.calculate_pay(40)) \n",
    "print('s.bonus():', s.bonus())"
   ]
  },
  {
   "cell_type": "markdown",
   "metadata": {},
   "source": [
    "## Terminologia"
   ]
  },
  {
   "cell_type": "code",
   "execution_count": 36,
   "metadata": {},
   "outputs": [],
   "source": [
    "a = 3"
   ]
  },
  {
   "cell_type": "code",
   "execution_count": 29,
   "metadata": {},
   "outputs": [],
   "source": []
  },
  {
   "cell_type": "markdown",
   "metadata": {},
   "source": [
    "<img src=\"terminologia.png\">"
   ]
  },
  {
   "cell_type": "markdown",
   "metadata": {},
   "source": [
    "- **Class**: Una clase define la combinacion de datos y procedimientos que operan sobre esos datos\n",
    "- **Subclase**: Una Subclase es una **Clase** que hereda de otra clase\n",
    "- **Superclass**: es la clase padre de una clase, es la clase de la que la actual clase hereda \n",
    "\n",
    "En python no hay limite de cuantas superclases puede una clase tener, y tampoco cuantas subclases una clase puede tener."
   ]
  },
  {
   "cell_type": "markdown",
   "metadata": {},
   "source": [
    "#<img src=\"meme.jpg\">"
   ]
  },
  {
   "cell_type": "code",
   "execution_count": 63,
   "metadata": {},
   "outputs": [
    {
     "ename": "AssertionError",
     "evalue": "",
     "output_type": "error",
     "traceback": [
      "\u001b[0;31m---------------------------------------------------------------------------\u001b[0m",
      "\u001b[0;31mAssertionError\u001b[0m                            Traceback (most recent call last)",
      "\u001b[0;32m<ipython-input-63-f67af456709a>\u001b[0m in \u001b[0;36m<module>\u001b[0;34m\u001b[0m\n\u001b[1;32m     13\u001b[0m \u001b[0;34m\u001b[0m\u001b[0m\n\u001b[1;32m     14\u001b[0m \u001b[0mp1\u001b[0m \u001b[0;34m=\u001b[0m \u001b[0mEmployee\u001b[0m\u001b[0;34m(\u001b[0m\u001b[0;34m\"rodolfo\"\u001b[0m\u001b[0;34m,\u001b[0m \u001b[0;36m21\u001b[0m\u001b[0;34m,\u001b[0m \u001b[0;36m123\u001b[0m\u001b[0;34m)\u001b[0m\u001b[0;34m\u001b[0m\u001b[0;34m\u001b[0m\u001b[0m\n\u001b[0;32m---> 15\u001b[0;31m \u001b[0mValidator\u001b[0m\u001b[0;34m.\u001b[0m\u001b[0mvalidate_person_type\u001b[0m\u001b[0;34m(\u001b[0m\u001b[0mp1\u001b[0m\u001b[0;34m)\u001b[0m\u001b[0;34m\u001b[0m\u001b[0;34m\u001b[0m\u001b[0m\n\u001b[0m",
      "\u001b[0;32m<ipython-input-63-f67af456709a>\u001b[0m in \u001b[0;36mvalidate_person_type\u001b[0;34m(value)\u001b[0m\n\u001b[1;32m      5\u001b[0m     \u001b[0;34m@\u001b[0m\u001b[0mstaticmethod\u001b[0m\u001b[0;34m\u001b[0m\u001b[0;34m\u001b[0m\u001b[0m\n\u001b[1;32m      6\u001b[0m     \u001b[0;32mdef\u001b[0m \u001b[0mvalidate_person_type\u001b[0m\u001b[0;34m(\u001b[0m\u001b[0mvalue\u001b[0m\u001b[0;34m)\u001b[0m\u001b[0;34m:\u001b[0m\u001b[0;34m\u001b[0m\u001b[0;34m\u001b[0m\u001b[0m\n\u001b[0;32m----> 7\u001b[0;31m         \u001b[0;32massert\u001b[0m \u001b[0mtype\u001b[0m\u001b[0;34m(\u001b[0m\u001b[0mvalue\u001b[0m\u001b[0;34m)\u001b[0m \u001b[0;34m==\u001b[0m \u001b[0mPerson\u001b[0m\u001b[0;34m\u001b[0m\u001b[0;34m\u001b[0m\u001b[0m\n\u001b[0m\u001b[1;32m      8\u001b[0m \u001b[0;34m\u001b[0m\u001b[0m\n\u001b[1;32m      9\u001b[0m     \u001b[0;34m@\u001b[0m\u001b[0mstaticmethod\u001b[0m\u001b[0;34m\u001b[0m\u001b[0;34m\u001b[0m\u001b[0m\n",
      "\u001b[0;31mAssertionError\u001b[0m: "
     ]
    }
   ],
   "source": [
    "class Validator:\n",
    "    \"\"\"\n",
    "    validar los diferentes tipos de clases del programa\n",
    "    \"\"\"\n",
    "    @staticmethod\n",
    "    def validate_person_type(value):\n",
    "        assert type(value) == Person\n",
    "    \n",
    "    @staticmethod\n",
    "    def validate_employee_type(value):\n",
    "        return type(value) == Employee\n",
    "\n",
    "    \n",
    "p1 = Employee(\"rodolfo\", 21, 123)\n",
    "Validator.validate_person_type(p1)"
   ]
  },
  {
   "cell_type": "code",
   "execution_count": 49,
   "metadata": {},
   "outputs": [],
   "source": [
    "\n"
   ]
  },
  {
   "cell_type": "code",
   "execution_count": null,
   "metadata": {},
   "outputs": [],
   "source": []
  }
 ],
 "metadata": {
  "kernelspec": {
   "display_name": "Python 3",
   "language": "python",
   "name": "python3"
  },
  "language_info": {
   "codemirror_mode": {
    "name": "ipython",
    "version": 3
   },
   "file_extension": ".py",
   "mimetype": "text/x-python",
   "name": "python",
   "nbconvert_exporter": "python",
   "pygments_lexer": "ipython3",
   "version": "3.7.4"
  }
 },
 "nbformat": 4,
 "nbformat_minor": 2
}
