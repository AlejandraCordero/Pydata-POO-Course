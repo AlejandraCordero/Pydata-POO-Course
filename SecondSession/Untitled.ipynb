{
 "cells": [
  {
   "cell_type": "markdown",
   "metadata": {},
   "source": [
    "# Introduction"
   ]
  },
  {
   "cell_type": "markdown",
   "metadata": {},
   "source": [
    "In Python everything is an object"
   ]
  },
  {
   "cell_type": "code",
   "execution_count": 6,
   "metadata": {},
   "outputs": [
    {
     "name": "stdout",
     "output_type": "stream",
     "text": [
      "<class 'int'>\n"
     ]
    }
   ],
   "source": [
    "a = 3\n",
    "print(type(a))"
   ]
  },
  {
   "cell_type": "code",
   "execution_count": 7,
   "metadata": {},
   "outputs": [
    {
     "name": "stdout",
     "output_type": "stream",
     "text": [
      "<class 'float'>\n"
     ]
    }
   ],
   "source": [
    "b = 3.12123\n",
    "print(type(b))"
   ]
  },
  {
   "cell_type": "code",
   "execution_count": 8,
   "metadata": {},
   "outputs": [
    {
     "name": "stdout",
     "output_type": "stream",
     "text": [
      "<class 'str'>\n"
     ]
    }
   ],
   "source": [
    "print(type(\"pydata rocks!\"))"
   ]
  },
  {
   "cell_type": "code",
   "execution_count": 9,
   "metadata": {},
   "outputs": [
    {
     "name": "stdout",
     "output_type": "stream",
     "text": [
      "<class 'bool'>\n"
     ]
    }
   ],
   "source": [
    "print(type(True))"
   ]
  },
  {
   "cell_type": "code",
   "execution_count": 10,
   "metadata": {},
   "outputs": [
    {
     "name": "stdout",
     "output_type": "stream",
     "text": [
      "<class 'list'>\n"
     ]
    }
   ],
   "source": [
    "print(type([1, 2, 3,4 ]))"
   ]
  },
  {
   "cell_type": "markdown",
   "metadata": {},
   "source": [
    "## Class Definitions\n",
    "\n",
    "```\n",
    "class nameOfClass(SuperClass):\n",
    "    __init__\n",
    "    attributes\n",
    "    methods\n",
    "```\n",
    "\n",
    "CamelCase\n",
    "\n",
    "estaEsUnaFrase\n"
   ]
  },
  {
   "cell_type": "code",
   "execution_count": 81,
   "metadata": {},
   "outputs": [],
   "source": [
    "class Person:\n",
    "    \n",
    "    def __init__(self, age, name):\n",
    "        self.name = name  # nombre\n",
    "        self.age = age  # edad\n",
    "        \n",
    "    def __str__(self):\n",
    "        return \"{} has {} years old\".format(p1.name, p1.age)\n",
    "    \n",
    "    def birthday(self):\n",
    "        print(\"Happy birthday \", self.name)\n",
    "        self.age += 1\n",
    "        print(\"You are now\", self.age)"
   ]
  },
  {
   "cell_type": "markdown",
   "metadata": {},
   "source": [
    "Creating Examples of the Class\n",
    "\n",
    "Instanciar un objeto"
   ]
  },
  {
   "cell_type": "code",
   "execution_count": 36,
   "metadata": {},
   "outputs": [],
   "source": [
    "p1 = Person(36, \"Jhon\")\n",
    "p2 = Person(21, \"Phoebe\")"
   ]
  },
  {
   "cell_type": "code",
   "execution_count": 33,
   "metadata": {},
   "outputs": [],
   "source": [
    "# print(p1.name, \" has \", p1.age, \" years old\")"
   ]
  },
  {
   "cell_type": "code",
   "execution_count": 34,
   "metadata": {},
   "outputs": [],
   "source": [
    "# print(p2.name, \" has \", p2.age, \" years old\")"
   ]
  },
  {
   "cell_type": "code",
   "execution_count": 35,
   "metadata": {},
   "outputs": [],
   "source": [
    "# print(\"p1 id:\", id(p1))\n",
    "# print(p1)"
   ]
  },
  {
   "cell_type": "markdown",
   "metadata": {},
   "source": [
    "## Be Careful with Assignment"
   ]
  },
  {
   "cell_type": "code",
   "execution_count": 51,
   "metadata": {},
   "outputs": [],
   "source": [
    "p1 = Person(36, \"Jhon\")\n",
    "px = p1\n",
    "p2 = Person(21, \"Phoebe\")"
   ]
  },
  {
   "cell_type": "code",
   "execution_count": 43,
   "metadata": {},
   "outputs": [
    {
     "name": "stdout",
     "output_type": "stream",
     "text": [
      "Jhon  has  36  years old\n",
      "4577094224\n",
      "4577094224\n",
      "cambiando valores de px\n",
      "Reddy  has  36  years old\n",
      "Reddy  has  36  years old\n",
      "4577094224\n",
      "4577094224\n"
     ]
    }
   ],
   "source": [
    "print(px.name, \" has \", px.age, \" years old\")\n",
    "print(id(p1))\n",
    "print(id(px))\n",
    "\n",
    "print(\"cambiando valores de px\")\n",
    "px.name = \"Reddy\"\n",
    "print(p1.name, \" has \", p1.age, \" years old\")\n",
    "print(px.name, \" has \", px.age, \" years old\")\n",
    "print(id(p1))\n",
    "print(id(px))"
   ]
  },
  {
   "cell_type": "markdown",
   "metadata": {},
   "source": [
    "## Accessing Object Attributes"
   ]
  },
  {
   "cell_type": "code",
   "execution_count": null,
   "metadata": {},
   "outputs": [],
   "source": []
  },
  {
   "cell_type": "code",
   "execution_count": null,
   "metadata": {},
   "outputs": [],
   "source": []
  },
  {
   "cell_type": "markdown",
   "metadata": {},
   "source": [
    "## Defining a Default String Representation"
   ]
  },
  {
   "cell_type": "code",
   "execution_count": 52,
   "metadata": {},
   "outputs": [
    {
     "name": "stdout",
     "output_type": "stream",
     "text": [
      "Jhon  has  36  years old\n"
     ]
    }
   ],
   "source": [
    "print(p1.name, \" has \", p1.age, \" years old\")"
   ]
  },
  {
   "cell_type": "code",
   "execution_count": 53,
   "metadata": {},
   "outputs": [
    {
     "name": "stdout",
     "output_type": "stream",
     "text": [
      "Jhon has 36 years old\n"
     ]
    }
   ],
   "source": [
    "print(p1)"
   ]
  },
  {
   "cell_type": "markdown",
   "metadata": {},
   "source": [
    "## Class Comment"
   ]
  },
  {
   "cell_type": "code",
   "execution_count": 78,
   "metadata": {},
   "outputs": [],
   "source": [
    "class Car:\n",
    "    \"\"\"bro esta es una clase que descrighdsfdgsjkbkdkjskjfnjsfkfnsklnabe a un auto\n",
    "    \"\"\"   \n",
    "    "
   ]
  },
  {
   "cell_type": "code",
   "execution_count": null,
   "metadata": {},
   "outputs": [],
   "source": []
  },
  {
   "cell_type": "code",
   "execution_count": null,
   "metadata": {},
   "outputs": [],
   "source": []
  },
  {
   "cell_type": "markdown",
   "metadata": {},
   "source": [
    "## Adding a Birthday Method"
   ]
  },
  {
   "cell_type": "code",
   "execution_count": 101,
   "metadata": {},
   "outputs": [],
   "source": [
    "class Person:\n",
    "    \n",
    "    def __init__(self, age, name):\n",
    "        self.name = name  # nombre\n",
    "        self.age = age  # edad\n",
    "        \n",
    "    def __str__(self):\n",
    "        return \"{} has {} years old\".format(self.name, self.age)\n",
    "    \n",
    "    def birthday(self):\n",
    "        print(\"Happy birthday \", self.name)\n",
    "        self.age += 1\n",
    "        print(\"You are now\", self.age)\n",
    "    \n",
    "    def calculate_pay(self, hours_worked):\n",
    "        rate_of_pay = 100\n",
    "        if self.age > 21:\n",
    "            rate_of_pay += 20\n",
    "        return hours_worked * rate_of_pay\n",
    "\n",
    "    def can_drink_beer(self):\n",
    "        if self.age < 21:\n",
    "            return False\n",
    "        else:\n",
    "            return True"
   ]
  },
  {
   "cell_type": "code",
   "execution_count": null,
   "metadata": {},
   "outputs": [],
   "source": []
  },
  {
   "cell_type": "code",
   "execution_count": 104,
   "metadata": {},
   "outputs": [
    {
     "name": "stdout",
     "output_type": "stream",
     "text": [
      "True\n"
     ]
    }
   ],
   "source": []
  },
  {
   "cell_type": "code",
   "execution_count": 96,
   "metadata": {},
   "outputs": [
    {
     "name": "stdout",
     "output_type": "stream",
     "text": [
      "adam has 23 years old\n",
      "Happy birthday  adam\n",
      "You are now 24\n"
     ]
    }
   ],
   "source": []
  },
  {
   "cell_type": "code",
   "execution_count": null,
   "metadata": {},
   "outputs": [],
   "source": []
  },
  {
   "cell_type": "markdown",
   "metadata": {},
   "source": [
    "## Defining Instance Methods"
   ]
  },
  {
   "cell_type": "code",
   "execution_count": 109,
   "metadata": {},
   "outputs": [
    {
     "name": "stdout",
     "output_type": "stream",
     "text": [
      "2400  Bs\n"
     ]
    }
   ],
   "source": [
    "p3 = Person(24, 'adam')\n",
    "print(p3.calculate_pay(20), \" Bs\")"
   ]
  },
  {
   "cell_type": "code",
   "execution_count": null,
   "metadata": {},
   "outputs": [],
   "source": []
  },
  {
   "cell_type": "markdown",
   "metadata": {},
   "source": [
    "## Recap"
   ]
  },
  {
   "cell_type": "code",
   "execution_count": 119,
   "metadata": {},
   "outputs": [
    {
     "name": "stdout",
     "output_type": "stream",
     "text": [
      "Erick has 30 years old\n",
      "27600  Bs\n"
     ]
    }
   ],
   "source": [
    "p4 = Person(30, \"Erick\")\n",
    "print(p4)\n",
    "print(p4.calculate_pay(230), \" Bs\")"
   ]
  },
  {
   "cell_type": "code",
   "execution_count": 112,
   "metadata": {},
   "outputs": [
    {
     "name": "stdout",
     "output_type": "stream",
     "text": [
      "4581240656\n"
     ]
    }
   ],
   "source": [
    "print(id(p4))"
   ]
  },
  {
   "cell_type": "code",
   "execution_count": null,
   "metadata": {},
   "outputs": [],
   "source": []
  },
  {
   "cell_type": "markdown",
   "metadata": {},
   "source": [
    "## Del Keyword"
   ]
  },
  {
   "cell_type": "code",
   "execution_count": 122,
   "metadata": {},
   "outputs": [
    {
     "name": "stdout",
     "output_type": "stream",
     "text": [
      "name 'p4' is not defined\n",
      "el objeto que intento llamar ya no existe\n"
     ]
    }
   ],
   "source": [
    "# del p4\n",
    "try:\n",
    "    print(p4)\n",
    "except Exception as e:\n",
    "    print(e)\n",
    "    print(\"el objeto que intento llamar ya no existe\")\n",
    "    "
   ]
  },
  {
   "cell_type": "code",
   "execution_count": 116,
   "metadata": {},
   "outputs": [
    {
     "name": "stdout",
     "output_type": "stream",
     "text": [
      "Erick has 30 years old\n"
     ]
    }
   ],
   "source": []
  },
  {
   "cell_type": "markdown",
   "metadata": {},
   "source": [
    "## Intrinsic Attributes"
   ]
  },
  {
   "cell_type": "code",
   "execution_count": 124,
   "metadata": {},
   "outputs": [],
   "source": [
    "class Persona:\n",
    "    contador_de_instancia = 0\n",
    "    def __init__(self, nombre):\n",
    "        Persona.contador_de_instancia = Persona.contador_de_instancia + 1\n",
    "        self.nombre = nombre"
   ]
  },
  {
   "cell_type": "code",
   "execution_count": 129,
   "metadata": {},
   "outputs": [],
   "source": [
    "p1 = Persona(\"redd\")\n",
    "p2 = Persona(\"david\")\n",
    "p1 = Persona(\"redd\")\n",
    "p3 = Persona(\"david\")"
   ]
  },
  {
   "cell_type": "code",
   "execution_count": 128,
   "metadata": {},
   "outputs": [
    {
     "data": {
      "text/plain": [
       "mappingproxy({'__module__': '__main__',\n",
       "              'contador_de_instancia': 6,\n",
       "              '__init__': <function __main__.Persona.__init__(self, nombre)>,\n",
       "              '__dict__': <attribute '__dict__' of 'Persona' objects>,\n",
       "              '__weakref__': <attribute '__weakref__' of 'Persona' objects>,\n",
       "              '__doc__': None})"
      ]
     },
     "execution_count": 128,
     "metadata": {},
     "output_type": "execute_result"
    }
   ],
   "source": [
    "Persona.__dict__"
   ]
  },
  {
   "cell_type": "code",
   "execution_count": 144,
   "metadata": {},
   "outputs": [],
   "source": [
    "reddy = Persona(\"Reddy\")\n",
    "jorge = Persona(\"Jorge\")"
   ]
  },
  {
   "cell_type": "code",
   "execution_count": 150,
   "metadata": {},
   "outputs": [
    {
     "name": "stdout",
     "output_type": "stream",
     "text": [
      "4515649136\n"
     ]
    }
   ],
   "source": [
    "print(id(reddy.contador_de_instancia))"
   ]
  },
  {
   "cell_type": "code",
   "execution_count": 151,
   "metadata": {},
   "outputs": [
    {
     "name": "stdout",
     "output_type": "stream",
     "text": [
      "5\n"
     ]
    }
   ],
   "source": [
    "reddy.contador_de_instancia = 5\n",
    "print(reddy.contador_de_instancia)"
   ]
  },
  {
   "cell_type": "code",
   "execution_count": 152,
   "metadata": {},
   "outputs": [
    {
     "name": "stdout",
     "output_type": "stream",
     "text": [
      "4515648784\n"
     ]
    }
   ],
   "source": [
    "print(id(reddy.contador_de_instancia))"
   ]
  },
  {
   "cell_type": "code",
   "execution_count": 149,
   "metadata": {},
   "outputs": [
    {
     "name": "stdout",
     "output_type": "stream",
     "text": [
      "4515649136\n"
     ]
    }
   ],
   "source": [
    "print(id(jorge.contador_de_instancia))"
   ]
  },
  {
   "cell_type": "code",
   "execution_count": 139,
   "metadata": {},
   "outputs": [
    {
     "name": "stdout",
     "output_type": "stream",
     "text": [
      "11\n",
      "12\n"
     ]
    }
   ],
   "source": [
    "print(p3.contador_de_instancia)\n",
    "p4 = Persona(\"asdfasd\")\n",
    "print(Persona.contador_de_instancia)"
   ]
  },
  {
   "cell_type": "code",
   "execution_count": 136,
   "metadata": {},
   "outputs": [
    {
     "data": {
      "text/plain": [
       "10"
      ]
     },
     "execution_count": 136,
     "metadata": {},
     "output_type": "execute_result"
    }
   ],
   "source": [
    "Persona.contador_de_instancia"
   ]
  }
 ],
 "metadata": {
  "kernelspec": {
   "display_name": "Python 3",
   "language": "python",
   "name": "python3"
  },
  "language_info": {
   "codemirror_mode": {
    "name": "ipython",
    "version": 3
   },
   "file_extension": ".py",
   "mimetype": "text/x-python",
   "name": "python",
   "nbconvert_exporter": "python",
   "pygments_lexer": "ipython3",
   "version": "3.7.4"
  }
 },
 "nbformat": 4,
 "nbformat_minor": 2
}
