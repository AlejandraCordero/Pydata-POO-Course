{
 "cells": [
  {
   "cell_type": "code",
   "execution_count": 5,
   "metadata": {},
   "outputs": [],
   "source": [
    "# Gato -> objeto\n",
    "\n",
    "class Calculadora:\n",
    "    def __init__(self, pantalla, teclas):\n",
    "        self.teclas = teclas\n",
    "\n",
    "class Pantalla:\n",
    "    pass\n",
    "\n",
    "class Tecla:\n",
    "    pass\n",
    "\n",
    "teclas = [Tecla(), Tecla(), Tecla()]\n",
    "# lista [] -> puede cambiar elemnto\n",
    "# tupla () -> no puede cambiar elemnto\n",
    "\n",
    "ojo_cafe = Ojo()\n",
    "caiman = Caiman(\"pepe\", ojo_cafe)\n",
    "    \n",
    "        "
   ]
  },
  {
   "cell_type": "code",
   "execution_count": 6,
   "metadata": {},
   "outputs": [],
   "source": [
    "calculadora = Calculadora(Pantalla(), teclas)"
   ]
  },
  {
   "cell_type": "code",
   "execution_count": null,
   "metadata": {},
   "outputs": [],
   "source": [
    "# 3 tipos de metodos\n",
    "# metodos de instancia -> self -> bobby.correr()\n",
    "# metodos estaticos -> nada -> agrupar metodos (ordenar codigo)\n",
    "# metodos de clase -> cls -> \n"
   ]
  },
  {
   "cell_type": "code",
   "execution_count": null,
   "metadata": {},
   "outputs": [],
   "source": [
    "\n",
    "    "
   ]
  },
  {
   "cell_type": "code",
   "execution_count": null,
   "metadata": {},
   "outputs": [],
   "source": []
  },
  {
   "cell_type": "code",
   "execution_count": null,
   "metadata": {},
   "outputs": [],
   "source": []
  },
  {
   "cell_type": "code",
   "execution_count": null,
   "metadata": {},
   "outputs": [],
   "source": []
  },
  {
   "cell_type": "code",
   "execution_count": null,
   "metadata": {},
   "outputs": [],
   "source": []
  },
  {
   "cell_type": "code",
   "execution_count": null,
   "metadata": {},
   "outputs": [],
   "source": []
  },
  {
   "cell_type": "code",
   "execution_count": null,
   "metadata": {},
   "outputs": [],
   "source": []
  }
 ],
 "metadata": {
  "kernelspec": {
   "display_name": "Python 3",
   "language": "python",
   "name": "python3"
  },
  "language_info": {
   "codemirror_mode": {
    "name": "ipython",
    "version": 3
   },
   "file_extension": ".py",
   "mimetype": "text/x-python",
   "name": "python",
   "nbconvert_exporter": "python",
   "pygments_lexer": "ipython3",
   "version": "3.7.4"
  }
 },
 "nbformat": 4,
 "nbformat_minor": 2
}
