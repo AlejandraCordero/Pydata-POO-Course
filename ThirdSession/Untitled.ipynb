{
 "cells": [
  {
   "cell_type": "code",
   "execution_count": 65,
   "metadata": {},
   "outputs": [],
   "source": [
    "class CarToyota:\n",
    "    marca = \"Toyota\"\n",
    "    instance_count = 0\n",
    "    \n",
    "    @classmethod\n",
    "    def increment_instance_count(cls):\n",
    "        cls.instance_count += 1\n",
    "    \n",
    "    def __init__(self, color, model):\n",
    "        CarToyota.increment_instance_count()\n",
    "        self.color = color\n",
    "        self.model = model\n",
    "    \n",
    "    def encender(self):\n",
    "        print(\"Coche encendido\")\n",
    "        \n",
    "    def avanzar(self):\n",
    "        print(\"Coche avanzando\")\n",
    "    \n",
    "    def cambia_color(self, color):\n",
    "        self.color = color\n",
    "    \n",
    "        \n",
    "        "
   ]
  },
  {
   "cell_type": "code",
   "execution_count": 74,
   "metadata": {},
   "outputs": [
    {
     "name": "stdout",
     "output_type": "stream",
     "text": [
      "9\n"
     ]
    }
   ],
   "source": [
    "car = CarToyota(\"x\", \"y\")\n",
    "\n",
    "CarToyota.increment_instance_count()\n",
    "print(CarToyota.instance_count)"
   ]
  },
  {
   "cell_type": "code",
   "execution_count": 100,
   "metadata": {},
   "outputs": [],
   "source": [
    "class GoogleAuth:\n",
    "    \n",
    "    # self, cls\n",
    "    @classmethod\n",
    "    def register(cls, username, password):\n",
    "        print(\"Usuario Registrado\")\n",
    "    \n",
    "    @classmethod\n",
    "    def login(cls, username, password):\n",
    "        print(\"Welcome\")\n",
    "        "
   ]
  },
  {
   "cell_type": "code",
   "execution_count": 101,
   "metadata": {},
   "outputs": [
    {
     "name": "stdout",
     "output_type": "stream",
     "text": [
      "Usuario Registrado\n"
     ]
    }
   ],
   "source": [
    "GoogleAuth.register(username=\"reddy123\", password=\"1234\")"
   ]
  },
  {
   "cell_type": "code",
   "execution_count": 85,
   "metadata": {},
   "outputs": [
    {
     "name": "stdout",
     "output_type": "stream",
     "text": [
      "Welcome\n"
     ]
    }
   ],
   "source": [
    "GoogleAuth.login(username=\"reddy123\", password=\"1234\")"
   ]
  },
  {
   "cell_type": "code",
   "execution_count": null,
   "metadata": {},
   "outputs": [],
   "source": []
  },
  {
   "cell_type": "code",
   "execution_count": 89,
   "metadata": {},
   "outputs": [],
   "source": [
    "def login(username, password):\n",
    "    print('Welcome')"
   ]
  },
  {
   "cell_type": "code",
   "execution_count": 90,
   "metadata": {},
   "outputs": [
    {
     "name": "stdout",
     "output_type": "stream",
     "text": [
      "Welcome\n"
     ]
    }
   ],
   "source": [
    "login(username=\"reddy123\", password=\"1234\")"
   ]
  }
 ],
 "metadata": {
  "kernelspec": {
   "display_name": "Python 3",
   "language": "python",
   "name": "python3"
  },
  "language_info": {
   "codemirror_mode": {
    "name": "ipython",
    "version": 3
   },
   "file_extension": ".py",
   "mimetype": "text/x-python",
   "name": "python",
   "nbconvert_exporter": "python",
   "pygments_lexer": "ipython3",
   "version": "3.7.4"
  }
 },
 "nbformat": 4,
 "nbformat_minor": 2
}
