{
 "cells": [
  {
   "cell_type": "code",
   "execution_count": 30,
   "metadata": {},
   "outputs": [],
   "source": [
    "class Complejos:\n",
    "    # real, imaginaria\n",
    "    # sumar, print, restar, multiplicar\n",
    "    \n",
    "    def __init__(self, imag, real):\n",
    "        \n",
    "        self.imaginaria = imag\n",
    "        self.real = real\n",
    "    \n",
    "    def __str__(self):\n",
    "        return \"{}+{}i\".format(self.real, self.imaginaria)\n",
    "    \n",
    "    def __add__(self, otro_complejo):  # +\n",
    "        real = self.real + otro_complejo.real\n",
    "        imaginaria = self.imaginaria + otro_complejo.imaginaria\n",
    "        return Complejos(real=real, imaginaria=imaginaria)\n",
    "    \n",
    "    def __sub__(self, otro_complejo):  # -\n",
    "        real = self.real - otro_complejo.real\n",
    "        imaginaria = self.imaginaria - otro_complejo.imaginaria\n",
    "        return Complejos(real=real, imaginaria=imaginaria)\n",
    "    \n",
    "    def __mul__(self, other):\n",
    "        return \"multiplicacion!\"\n",
    "    "
   ]
  },
  {
   "cell_type": "code",
   "execution_count": 26,
   "metadata": {},
   "outputs": [
    {
     "name": "stdout",
     "output_type": "stream",
     "text": [
      "2+123i\n"
     ]
    }
   ],
   "source": [
    "print(complejo)"
   ]
  },
  {
   "cell_type": "code",
   "execution_count": 24,
   "metadata": {},
   "outputs": [
    {
     "name": "stdout",
     "output_type": "stream",
     "text": [
      "imag >> 123\n",
      "real >> 2\n"
     ]
    }
   ],
   "source": []
  },
  {
   "cell_type": "code",
   "execution_count": 31,
   "metadata": {},
   "outputs": [
    {
     "name": "stdout",
     "output_type": "stream",
     "text": [
      "multiplicacion!\n"
     ]
    }
   ],
   "source": [
    "complejo1 = Complejos(real=12, imag=3)\n",
    "complejo2 = Complejos(real=5, imag=2)\n",
    "complejo3 = Complejos(real=50, imag=212)\n",
    "print(complejo1 * complejo2)"
   ]
  },
  {
   "cell_type": "code",
   "execution_count": 7,
   "metadata": {},
   "outputs": [
    {
     "name": "stdout",
     "output_type": "stream",
     "text": [
      "8\n"
     ]
    }
   ],
   "source": [
    "a = 3\n",
    "b = 5\n",
    "print(a + b)"
   ]
  },
  {
   "cell_type": "code",
   "execution_count": null,
   "metadata": {},
   "outputs": [],
   "source": []
  }
 ],
 "metadata": {
  "kernelspec": {
   "display_name": "Python 3",
   "language": "python",
   "name": "python3"
  },
  "language_info": {
   "codemirror_mode": {
    "name": "ipython",
    "version": 3
   },
   "file_extension": ".py",
   "mimetype": "text/x-python",
   "name": "python",
   "nbconvert_exporter": "python",
   "pygments_lexer": "ipython3",
   "version": "3.7.4"
  }
 },
 "nbformat": 4,
 "nbformat_minor": 2
}
