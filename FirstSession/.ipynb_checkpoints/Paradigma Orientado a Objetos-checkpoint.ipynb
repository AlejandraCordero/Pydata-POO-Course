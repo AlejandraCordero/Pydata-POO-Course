{
 "cells": [
  {
   "cell_type": "markdown",
   "metadata": {},
   "source": [
    "# Implementación No Optima\n",
    "\n",
    "En las siguientes lineas vemo"
   ]
  },
  {
   "cell_type": "code",
   "execution_count": 8,
   "metadata": {},
   "outputs": [],
   "source": [
    "# describir una persona\n",
    "# envejecer\n",
    "# imprimir \n",
    "\n",
    "p1_nombre = \"Reddy\"\n",
    "p1_edad = 23\n",
    "p1_genero = \"Hombre\"\n",
    "\n",
    "\n",
    "p2_nombre = \"Daniel\"\n",
    "p2_edad = 24\n",
    "p2_genero = \"Hombre\"\n",
    "    "
   ]
  },
  {
   "cell_type": "code",
   "execution_count": 10,
   "metadata": {},
   "outputs": [
    {
     "name": "stdout",
     "output_type": "stream",
     "text": [
      "nombre: Reddy, edad: 23, genero: Hombre\n"
     ]
    }
   ],
   "source": [
    "imprimir_persona(p1_nombre, p1_edad, p1_genero)"
   ]
  },
  {
   "cell_type": "code",
   "execution_count": 13,
   "metadata": {},
   "outputs": [],
   "source": [
    "def imprimir_persona(nombre, edad, genero):\n",
    "    print(\"nombre: {}, edad: {}, genero: {}\".format(nombre, edad, genero))"
   ]
  },
  {
   "cell_type": "code",
   "execution_count": 14,
   "metadata": {},
   "outputs": [],
   "source": [
    "def aumentar_edad(nombre, edad):\n",
    "    print(\"{} tenia: {} y ahora tiene: {}\".format(nombre, edad, edad+1))"
   ]
  },
  {
   "cell_type": "code",
   "execution_count": null,
   "metadata": {},
   "outputs": [],
   "source": []
  },
  {
   "cell_type": "code",
   "execution_count": null,
   "metadata": {},
   "outputs": [],
   "source": []
  },
  {
   "cell_type": "markdown",
   "metadata": {},
   "source": [
    "- Paradigma Orientado a Objetos\n",
    "\n",
    "- Clase\n",
    "- Objeto\n",
    "- Instanciar o crear\n",
    "- Abstraer\n",
    "\n",
    "- Constructor"
   ]
  },
  {
   "cell_type": "code",
   "execution_count": 32,
   "metadata": {},
   "outputs": [],
   "source": [
    "class Persona:\n",
    "    \n",
    "    def __init__(self, edad, ci, nombre, apellido):\n",
    "        self.edad = edad\n",
    "        self.ci = ci\n",
    "        self.nombre = nombre\n",
    "        self.apellido = apellido\n",
    "    \n",
    "    def imprimir(self):\n",
    "        print(\"edad: {}, ci: {}, nombre: {}, apellido: {}\".format(self.edad, self.ci, self.nombre, self.apellido))"
   ]
  },
  {
   "cell_type": "code",
   "execution_count": 33,
   "metadata": {},
   "outputs": [
    {
     "name": "stdout",
     "output_type": "stream",
     "text": [
      "edad: 23, ci: 83123, nombre: reddy, apellido: tintaya\n",
      "edad: 30, ci: 12345, nombre: abel, apellido: conde\n"
     ]
    }
   ],
   "source": [
    "persona = Persona(23, 83123, \"reddy\", \"tintaya\")\n",
    "persona.imprimir()\n",
    "\n",
    "persona2 = Persona(30, 12345, \"abel\", \"conde\")\n",
    "persona2.imprimir()\n"
   ]
  },
  {
   "cell_type": "code",
   "execution_count": null,
   "metadata": {},
   "outputs": [],
   "source": []
  }
 ],
 "metadata": {
  "kernelspec": {
   "display_name": "Python 3",
   "language": "python",
   "name": "python3"
  },
  "language_info": {
   "codemirror_mode": {
    "name": "ipython",
    "version": 3
   },
   "file_extension": ".py",
   "mimetype": "text/x-python",
   "name": "python",
   "nbconvert_exporter": "python",
   "pygments_lexer": "ipython3",
   "version": "3.7.4"
  }
 },
 "nbformat": 4,
 "nbformat_minor": 2
}
