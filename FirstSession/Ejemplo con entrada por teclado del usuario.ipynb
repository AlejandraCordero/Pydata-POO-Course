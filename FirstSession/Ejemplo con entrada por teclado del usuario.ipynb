{
 "cells": [
  {
   "cell_type": "code",
   "execution_count": 1,
   "metadata": {},
   "outputs": [],
   "source": [
    "class Persona:\n",
    "    \n",
    "    def __init__(self):\n",
    "        \n",
    "        self.edad = int(input(\"Ingresas edad >> \"))\n",
    "        self.ci = int(input(\"Ingresas ci >> \"))\n",
    "        self.nombre = input(\"Ingresas nombre >> \")\n",
    "        self.apellido = input(\"Ingresas apellido >> \")\n",
    "    \n",
    "    def __str__(self):\n",
    "        return \"edad: {}, ci: {}, nombre: {}, apellido: {}\".format(self.edad, self.ci, self.nombre, self.apellido)"
   ]
  },
  {
   "cell_type": "code",
   "execution_count": 2,
   "metadata": {},
   "outputs": [
    {
     "name": "stdout",
     "output_type": "stream",
     "text": [
      "Ingresas edad >> 23\n",
      "Ingresas ci >> 2345678\n",
      "Ingresas nombre >> Reddy\n",
      "Ingresas apellido >> Tintaya\n"
     ]
    }
   ],
   "source": [
    "persona = Persona()\n"
   ]
  },
  {
   "cell_type": "code",
   "execution_count": 3,
   "metadata": {},
   "outputs": [
    {
     "name": "stdout",
     "output_type": "stream",
     "text": [
      "edad: 23, ci: 2345678, nombre: Reddy, apellido: Tintaya\n"
     ]
    }
   ],
   "source": [
    "# dir(persona)\n",
    "print(persona)"
   ]
  }
 ],
 "metadata": {
  "kernelspec": {
   "display_name": "Python 3",
   "language": "python",
   "name": "python3"
  },
  "language_info": {
   "codemirror_mode": {
    "name": "ipython",
    "version": 3
   },
   "file_extension": ".py",
   "mimetype": "text/x-python",
   "name": "python",
   "nbconvert_exporter": "python",
   "pygments_lexer": "ipython3",
   "version": "3.7.4"
  }
 },
 "nbformat": 4,
 "nbformat_minor": 2
}
