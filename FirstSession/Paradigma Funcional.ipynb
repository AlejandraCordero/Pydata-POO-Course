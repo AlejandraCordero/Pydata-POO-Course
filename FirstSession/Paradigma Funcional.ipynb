{
 "cells": [
  {
   "cell_type": "markdown",
   "metadata": {},
   "source": [
    "## Persona"
   ]
  },
  {
   "cell_type": "code",
   "execution_count": 2,
   "metadata": {},
   "outputs": [],
   "source": [
    "p1_nombre = \"Reddy\"\n",
    "p1_edad = 20\n",
    "p1_genero = \"Hombre\"\n",
    "\n",
    "p2_nombre = \"Fernando\"\n",
    "p2_edad = 24\n",
    "p2_genero = \"Hombre\""
   ]
  },
  {
   "cell_type": "code",
   "execution_count": 3,
   "metadata": {},
   "outputs": [],
   "source": [
    "def imprimir_persona(nombre, edad, genero):\n",
    "    print(\"nombre: {}, edad: {}, genero: {}\".format(nombre, edad, genero))\n",
    "    "
   ]
  },
  {
   "cell_type": "code",
   "execution_count": 4,
   "metadata": {},
   "outputs": [
    {
     "name": "stdout",
     "output_type": "stream",
     "text": [
      "nombre: Reddy, edad: 20, genero: Hombre\n"
     ]
    }
   ],
   "source": [
    "imprimir_persona(p1_nombre, p1_edad, p1_genero)"
   ]
  },
  {
   "cell_type": "code",
   "execution_count": 5,
   "metadata": {},
   "outputs": [
    {
     "name": "stdout",
     "output_type": "stream",
     "text": [
      "nombre: Fernando, edad: 24, genero: Hombre\n"
     ]
    }
   ],
   "source": [
    "imprimir_persona(p2_nombre, p2_edad, p2_genero)"
   ]
  },
  {
   "cell_type": "code",
   "execution_count": 7,
   "metadata": {},
   "outputs": [],
   "source": [
    "def envejecer_persona(nombre):\n",
    "    print(\"envejeciendo a esta persona con nombre: \", nombre)\n",
    "    "
   ]
  },
  {
   "cell_type": "code",
   "execution_count": 8,
   "metadata": {},
   "outputs": [
    {
     "name": "stdout",
     "output_type": "stream",
     "text": [
      "envejeciendo a esta persona con nombre:  Reddy\n"
     ]
    }
   ],
   "source": [
    "envejecer_persona(\"Reddy\")"
   ]
  },
  {
   "cell_type": "code",
   "execution_count": null,
   "metadata": {},
   "outputs": [],
   "source": []
  }
 ],
 "metadata": {
  "kernelspec": {
   "display_name": "Python 3",
   "language": "python",
   "name": "python3"
  },
  "language_info": {
   "codemirror_mode": {
    "name": "ipython",
    "version": 3
   },
   "file_extension": ".py",
   "mimetype": "text/x-python",
   "name": "python",
   "nbconvert_exporter": "python",
   "pygments_lexer": "ipython3",
   "version": "3.7.4"
  }
 },
 "nbformat": 4,
 "nbformat_minor": 2
}
